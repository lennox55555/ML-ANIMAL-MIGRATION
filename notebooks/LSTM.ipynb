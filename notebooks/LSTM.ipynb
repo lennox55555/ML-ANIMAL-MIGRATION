{
 "cells": [
  {
   "cell_type": "code",
   "execution_count": 151,
   "metadata": {},
   "outputs": [],
   "source": [
    "import numpy as np\n",
    "import pandas as pd\n",
    "import matplotlib.pyplot as plt\n",
    "import seaborn as sns\n",
    "from datetime import datetime, time\n",
    "from sklearn.metrics import mean_absolute_error, r2_score, mean_squared_error\n",
    "from sklearn.ensemble import RandomForestRegressor\n",
    "from sklearn.preprocessing import StandardScaler\n",
    "import random\n",
    "import torch\n",
    "from torch.utils.data import DataLoader, TensorDataset\n",
    "import torch.nn as nn"
   ]
  },
  {
   "cell_type": "code",
   "execution_count": 152,
   "metadata": {},
   "outputs": [],
   "source": [
    "df = pd.read_excel('../data/GNP_Aerial_counting_1969_2022.xlsx')"
   ]
  },
  {
   "cell_type": "code",
   "execution_count": 153,
   "metadata": {},
   "outputs": [],
   "source": [
    "empty_cols = ['MALE', 'CALVES'] #columns that are empty\n",
    "zero_cols = ['LINE2002', 'LINE2012', 'COLLAR', 'CONSERVANC', 'SANCTUARY'] #columns that are > 80% just 0s\n",
    "drop_cols = ['NOTES'] # other columns to drop\n",
    "df.drop(columns=empty_cols, inplace=True)\n",
    "df.drop(columns=zero_cols, inplace=True)\n",
    "df.drop(columns=drop_cols, inplace=True)"
   ]
  },
  {
   "cell_type": "code",
   "execution_count": 154,
   "metadata": {},
   "outputs": [],
   "source": [
    "df['TIME'] = df['TIME'].apply(lambda x: x.hour * 3600 + x.minute * 60 + x.second if pd.notna(x) else x)\n",
    "df['TIME'] = df['TIME'].fillna(0)"
   ]
  },
  {
   "cell_type": "code",
   "execution_count": 155,
   "metadata": {},
   "outputs": [],
   "source": [
    "df['TYPE'] = df['TYPE'].map({'Fixed-wing': 0, 'Helicopter': 1})"
   ]
  },
  {
   "cell_type": "code",
   "execution_count": 135,
   "metadata": {},
   "outputs": [],
   "source": [
    "#zero_count = (df['COUNT_DAY'] == 0).sum()\n",
    "#print(zero_count / df.shape[0])"
   ]
  },
  {
   "cell_type": "code",
   "execution_count": 156,
   "metadata": {},
   "outputs": [],
   "source": [
    "df['DATE'] = df['DATE'].apply(lambda t: t.day if isinstance(t, datetime) else np.nan)\n",
    "\n",
    "def process_date(val):\n",
    "    if pd.isna(val):\n",
    "        return np.nan\n",
    "    elif isinstance(val, str):\n",
    "        return float(val.split('/')[1])\n",
    "    elif isinstance(val, datetime):\n",
    "        return val.day\n",
    "    else:\n",
    "        return float(val)\n",
    "\n",
    "df['DATE'] = df['DATE'].apply(process_date)"
   ]
  },
  {
   "cell_type": "code",
   "execution_count": 157,
   "metadata": {},
   "outputs": [],
   "source": [
    "month_mapping = {\n",
    "    'January': 1, 'February': 2, 'March': 3, 'April': 4,\n",
    "    'May': 5, 'June': 6, 'July': 7, 'August': 8,\n",
    "    'September': 9, 'October': 10, 'November': 11, 'December': 12\n",
    "}\n",
    "\n",
    "df['MONTH'] = df['MONTH'].map(month_mapping)\n",
    "df['MONTH'] = pd.to_numeric(df['MONTH'], errors='coerce')"
   ]
  },
  {
   "cell_type": "code",
   "execution_count": 158,
   "metadata": {},
   "outputs": [],
   "source": [
    "df['lat_lag1'] = df.groupby('SPECIES')['LATITUDE'].shift(1)\n",
    "df['lat_lag2'] = df.groupby('SPECIES')['LATITUDE'].shift(2)\n",
    "\n",
    "\n",
    "df['lon_lag1'] = df.groupby('SPECIES')['LONGITUDE'].shift(1)\n",
    "df['lon_lag2'] = df.groupby('SPECIES')['LONGITUDE'].shift(2)\n",
    "\n",
    "\n",
    "df['number_lag1'] = df.groupby('SPECIES')['NUMBER'].shift(1)\n",
    "df['number_lag2'] = df.groupby('SPECIES')['NUMBER'].shift(2)\n"
   ]
  },
  {
   "cell_type": "code",
   "execution_count": 159,
   "metadata": {},
   "outputs": [],
   "source": [
    "df['SPECIES'] = df['SPECIES'].str.lower()\n",
    "df['STRATUM'] = df['STRATUM'].str.lower()\n",
    "df = pd.get_dummies(df, columns=['SPECIES', 'STRATUM'])"
   ]
  },
  {
   "cell_type": "code",
   "execution_count": 140,
   "metadata": {},
   "outputs": [
    {
     "data": {
      "text/plain": [
       "'\\ncorrelation_matrix = df.corr()\\nplt.figure(figsize=(25, 25)) \\nsns.heatmap(correlation_matrix, annot=True, cmap=\"coolwarm\")\\nplt.title(\"Correlation Matrix Heatmap\")\\nplt.show()\\n'"
      ]
     },
     "execution_count": 140,
     "metadata": {},
     "output_type": "execute_result"
    }
   ],
   "source": [
    "'''\n",
    "correlation_matrix = df.corr()\n",
    "plt.figure(figsize=(25, 25)) \n",
    "sns.heatmap(correlation_matrix, annot=True, cmap=\"coolwarm\")\n",
    "plt.title(\"Correlation Matrix Heatmap\")\n",
    "plt.show()\n",
    "'''"
   ]
  },
  {
   "cell_type": "code",
   "execution_count": 141,
   "metadata": {},
   "outputs": [],
   "source": [
    "# df.to_csv('GNB1969-2022.csv', index=False)"
   ]
  },
  {
   "cell_type": "code",
   "execution_count": null,
   "metadata": {},
   "outputs": [],
   "source": []
  },
  {
   "cell_type": "markdown",
   "metadata": {},
   "source": [
    "### Non-DL Model\n",
    "\n",
    "#### Run Cross-Val"
   ]
  },
  {
   "cell_type": "code",
   "execution_count": 160,
   "metadata": {},
   "outputs": [],
   "source": [
    "# Get Train Test Split\n",
    "train_df = df[df['COUNT'] != 2022]\n",
    "test_df = df[df['COUNT'] == 2022]\n",
    "\n",
    "#fillna with mean\n",
    "train_df = train_df.fillna(train_df.mean())\n",
    "test_df = test_df.fillna(test_df.mean())\n",
    "\n",
    "X_train = train_df.drop(columns=['ID', 'LATITUDE', 'LONGITUDE', 'NUMBER'])\n",
    "y_train = train_df[['NUMBER', 'LATITUDE', 'LONGITUDE']]\n",
    "X_test = test_df.drop(columns=['ID', 'LATITUDE', 'LONGITUDE', 'NUMBER'])\n",
    "y_test = test_df[['NUMBER', 'LATITUDE', 'LONGITUDE']]\n",
    "\n",
    "scaler = StandardScaler()\n",
    "X_train = scaler.fit_transform(X_train)\n",
    "X_test = scaler.transform(X_test)"
   ]
  },
  {
   "cell_type": "markdown",
   "metadata": {},
   "source": [
    "#### Train on Full Dataset (Excluding 2022 for testing)"
   ]
  },
  {
   "cell_type": "code",
   "execution_count": 161,
   "metadata": {},
   "outputs": [
    {
     "name": "stdout",
     "output_type": "stream",
     "text": [
      "Epoch [10/100], Loss: 23.7240\n",
      "Epoch [20/100], Loss: 9.7731\n",
      "Epoch [30/100], Loss: 9.6855\n",
      "Epoch [40/100], Loss: 11.0686\n",
      "Epoch [50/100], Loss: 4.2876\n",
      "Epoch [60/100], Loss: 22.6931\n",
      "Epoch [70/100], Loss: 4.3442\n",
      "Epoch [80/100], Loss: 27.9471\n",
      "Epoch [90/100], Loss: 13.8867\n",
      "Epoch [100/100], Loss: 8.9911\n",
      "Test Loss: 55.4840\n"
     ]
    }
   ],
   "source": [
    "import torch\n",
    "import torch.nn as nn\n",
    "import torch.optim as optim\n",
    "from torch.utils.data import DataLoader, TensorDataset\n",
    "import numpy as np\n",
    "import pandas as pd\n",
    "from sklearn.preprocessing import StandardScaler\n",
    "\n",
    "\n",
    "\n",
    "# Scale the features\n",
    "scaler = StandardScaler()\n",
    "X_train_scaled = scaler.fit_transform(X_train)\n",
    "X_test_scaled = scaler.transform(X_test)\n",
    "\n",
    "# Convert to PyTorch tensors\n",
    "X_train_tensor = torch.FloatTensor(X_train_scaled)\n",
    "y_train_tensor = torch.FloatTensor(y_train.values)\n",
    "X_test_tensor = torch.FloatTensor(X_test_scaled)\n",
    "y_test_tensor = torch.FloatTensor(y_test.values)\n",
    "\n",
    "# Reshape input to be [samples, time steps, features]\n",
    "X_train_tensor = X_train_tensor.unsqueeze(1)\n",
    "X_test_tensor = X_test_tensor.unsqueeze(1)\n",
    "\n",
    "# Create DataLoader\n",
    "train_dataset = TensorDataset(X_train_tensor, y_train_tensor)\n",
    "train_loader = DataLoader(train_dataset, batch_size=32, shuffle=True)\n",
    "\n",
    "# Define the LSTM Model\n",
    "class LSTMModel(nn.Module):\n",
    "    def __init__(self, input_size, hidden_size, num_layers, output_size):\n",
    "        super(LSTMModel, self).__init__()\n",
    "        self.hidden_size = hidden_size\n",
    "        self.num_layers = num_layers\n",
    "        self.lstm = nn.LSTM(input_size, hidden_size, num_layers, batch_first=True, dropout= 0.2)\n",
    "        self.fc = nn.Linear(hidden_size, output_size)\n",
    "\n",
    "    def forward(self, x):\n",
    "        h0 = torch.zeros(self.num_layers, x.size(0), self.hidden_size).to(x.device)\n",
    "        c0 = torch.zeros(self.num_layers, x.size(0), self.hidden_size).to(x.device)\n",
    "        out, _ = self.lstm(x, (h0, c0))\n",
    "        out = self.fc(out[:, -1, :])\n",
    "        return out\n",
    "\n",
    "# Instantiate the model\n",
    "input_size = X_train.shape[1]\n",
    "hidden_size = 64\n",
    "num_layers = 2\n",
    "output_size = 3  # Number of target variables\n",
    "\n",
    "model = LSTMModel(input_size, hidden_size, num_layers, output_size)\n",
    "\n",
    "# Define loss function and optimizer\n",
    "criterion = nn.MSELoss()\n",
    "optimizer = optim.Adam(model.parameters())\n",
    "\n",
    "# Training loop\n",
    "num_epochs = 100\n",
    "device = torch.device(\"cuda\" if torch.cuda.is_available() else \"cpu\")\n",
    "model.to(device)\n",
    "\n",
    "for epoch in range(num_epochs):\n",
    "    model.train()\n",
    "    for batch_X, batch_y in train_loader:\n",
    "        batch_X, batch_y = batch_X.to(device), batch_y.to(device)\n",
    "        optimizer.zero_grad()\n",
    "        outputs = model(batch_X)\n",
    "        loss = criterion(outputs, batch_y)\n",
    "        loss.backward()\n",
    "        optimizer.step()\n",
    "    \n",
    "    if (epoch + 1) % 10 == 0:\n",
    "        print(f'Epoch [{epoch+1}/{num_epochs}], Loss: {loss.item():.4f}')\n",
    "\n",
    "# Evaluation\n",
    "model.eval()\n",
    "with torch.no_grad():\n",
    "    X_test_tensor = X_test_tensor.to(device)\n",
    "    predictions = model(X_test_tensor)\n",
    "    test_loss = criterion(predictions, y_test_tensor.to(device))\n",
    "    print(f'Test Loss: {test_loss.item():.4f}')\n",
    "\n",
    "# Convert predictions back to numpy for further analysis if needed\n",
    "predictions = predictions.cpu().numpy()"
   ]
  },
  {
   "cell_type": "code",
   "execution_count": 167,
   "metadata": {},
   "outputs": [
    {
     "name": "stdout",
     "output_type": "stream",
     "text": [
      "Mean Squared Error: 55.483638763427734\n",
      "Mean Absolute Error: 1.541730523109436\n",
      "R² Score: -0.24870991706848145\n",
      "[[  1.591094  -18.854141   34.446045 ]\n",
      " [  3.5158355 -18.827131   34.45874  ]\n",
      " [  1.9997168 -18.85842    34.46708  ]\n",
      " ...\n",
      " [  6.813117  -18.893501   34.501186 ]\n",
      " [  4.32167   -18.86376    34.50691  ]\n",
      " [  3.5166614 -18.859398   34.49637  ]]\n"
     ]
    }
   ],
   "source": [
    "with torch.no_grad():\n",
    "    actual = y_test_tensor.numpy()\n",
    "    y_preds = model(X_test_tensor)\n",
    "    #y_preds[:, 0] = torch.round(y_preds[:, 0])\n",
    "    predicted = y_preds.detach().numpy()\n",
    "    \n",
    "    mse = mean_squared_error(actual, predicted)\n",
    "    print(f\"Mean Squared Error: {mse}\")\n",
    "\n",
    "    mae = mean_absolute_error(actual, predicted)\n",
    "    print(f\"Mean Absolute Error: {mae}\")    \n",
    "\n",
    "    r2 = r2_score(actual, predicted)\n",
    "    print(f\"R² Score: {r2}\")\n",
    "\n",
    "print(predicted)"
   ]
  },
  {
   "cell_type": "code",
   "execution_count": 163,
   "metadata": {},
   "outputs": [],
   "source": [
    "df_actual = pd.DataFrame(actual)\n",
    "df_predicted = pd.DataFrame(predicted)"
   ]
  },
  {
   "cell_type": "code",
   "execution_count": 147,
   "metadata": {},
   "outputs": [
    {
     "data": {
      "text/html": [
       "<div>\n",
       "<style scoped>\n",
       "    .dataframe tbody tr th:only-of-type {\n",
       "        vertical-align: middle;\n",
       "    }\n",
       "\n",
       "    .dataframe tbody tr th {\n",
       "        vertical-align: top;\n",
       "    }\n",
       "\n",
       "    .dataframe thead th {\n",
       "        text-align: right;\n",
       "    }\n",
       "</style>\n",
       "<table border=\"1\" class=\"dataframe\">\n",
       "  <thead>\n",
       "    <tr style=\"text-align: right;\">\n",
       "      <th></th>\n",
       "      <th>0</th>\n",
       "      <th>1</th>\n",
       "      <th>2</th>\n",
       "    </tr>\n",
       "  </thead>\n",
       "  <tbody>\n",
       "    <tr>\n",
       "      <th>0</th>\n",
       "      <td>1.0</td>\n",
       "      <td>-18.860001</td>\n",
       "      <td>34.174301</td>\n",
       "    </tr>\n",
       "    <tr>\n",
       "      <th>1</th>\n",
       "      <td>1.0</td>\n",
       "      <td>-18.855499</td>\n",
       "      <td>34.168701</td>\n",
       "    </tr>\n",
       "    <tr>\n",
       "      <th>2</th>\n",
       "      <td>2.0</td>\n",
       "      <td>-18.820101</td>\n",
       "      <td>34.150700</td>\n",
       "    </tr>\n",
       "    <tr>\n",
       "      <th>3</th>\n",
       "      <td>1.0</td>\n",
       "      <td>-18.819401</td>\n",
       "      <td>34.150902</td>\n",
       "    </tr>\n",
       "    <tr>\n",
       "      <th>4</th>\n",
       "      <td>4.0</td>\n",
       "      <td>-18.814800</td>\n",
       "      <td>34.152401</td>\n",
       "    </tr>\n",
       "  </tbody>\n",
       "</table>\n",
       "</div>"
      ],
      "text/plain": [
       "     0          1          2\n",
       "0  1.0 -18.860001  34.174301\n",
       "1  1.0 -18.855499  34.168701\n",
       "2  2.0 -18.820101  34.150700\n",
       "3  1.0 -18.819401  34.150902\n",
       "4  4.0 -18.814800  34.152401"
      ]
     },
     "execution_count": 147,
     "metadata": {},
     "output_type": "execute_result"
    }
   ],
   "source": [
    "df_actual.head(5)"
   ]
  },
  {
   "cell_type": "code",
   "execution_count": null,
   "metadata": {},
   "outputs": [
    {
     "data": {
      "text/html": [
       "<div>\n",
       "<style scoped>\n",
       "    .dataframe tbody tr th:only-of-type {\n",
       "        vertical-align: middle;\n",
       "    }\n",
       "\n",
       "    .dataframe tbody tr th {\n",
       "        vertical-align: top;\n",
       "    }\n",
       "\n",
       "    .dataframe thead th {\n",
       "        text-align: right;\n",
       "    }\n",
       "</style>\n",
       "<table border=\"1\" class=\"dataframe\">\n",
       "  <thead>\n",
       "    <tr style=\"text-align: right;\">\n",
       "      <th></th>\n",
       "      <th>0</th>\n",
       "      <th>1</th>\n",
       "      <th>2</th>\n",
       "    </tr>\n",
       "  </thead>\n",
       "  <tbody>\n",
       "    <tr>\n",
       "      <th>0</th>\n",
       "      <td>0.535073</td>\n",
       "      <td>-18.878510</td>\n",
       "      <td>34.498390</td>\n",
       "    </tr>\n",
       "    <tr>\n",
       "      <th>1</th>\n",
       "      <td>3.314152</td>\n",
       "      <td>-18.827133</td>\n",
       "      <td>34.444683</td>\n",
       "    </tr>\n",
       "    <tr>\n",
       "      <th>2</th>\n",
       "      <td>2.388991</td>\n",
       "      <td>-18.843895</td>\n",
       "      <td>34.466145</td>\n",
       "    </tr>\n",
       "    <tr>\n",
       "      <th>3</th>\n",
       "      <td>2.146640</td>\n",
       "      <td>-18.852396</td>\n",
       "      <td>34.481922</td>\n",
       "    </tr>\n",
       "    <tr>\n",
       "      <th>4</th>\n",
       "      <td>2.553080</td>\n",
       "      <td>-18.831341</td>\n",
       "      <td>34.446682</td>\n",
       "    </tr>\n",
       "  </tbody>\n",
       "</table>\n",
       "</div>"
      ],
      "text/plain": [
       "          0          1          2\n",
       "0  0.535073 -18.878510  34.498390\n",
       "1  3.314152 -18.827133  34.444683\n",
       "2  2.388991 -18.843895  34.466145\n",
       "3  2.146640 -18.852396  34.481922\n",
       "4  2.553080 -18.831341  34.446682"
      ]
     },
     "execution_count": 121,
     "metadata": {},
     "output_type": "execute_result"
    }
   ],
   "source": [
    "df_predicted.head(5)"
   ]
  },
  {
   "cell_type": "code",
   "execution_count": 164,
   "metadata": {},
   "outputs": [
    {
     "name": "stdout",
     "output_type": "stream",
     "text": [
      "Mean Squared Error NUMBER: 0.14109037816524506\n",
      "Mean Absolute Error NUMBER: 0.28956571221351624\n",
      "R² Score NUMBER: 0.9997051954269409\n"
     ]
    }
   ],
   "source": [
    "mse = mean_squared_error(actual[0], predicted[0])\n",
    "print(f\"Mean Squared Error NUMBER: {mse}\")\n",
    "\n",
    "mae = mean_absolute_error(actual[0], predicted[0])\n",
    "print(f\"Mean Absolute Error NUMBER: {mae}\")    \n",
    "\n",
    "r2 = r2_score(actual[0], predicted[0])\n",
    "print(f\"R² Score NUMBER: {r2}\")"
   ]
  },
  {
   "cell_type": "code",
   "execution_count": 165,
   "metadata": {},
   "outputs": [
    {
     "name": "stdout",
     "output_type": "stream",
     "text": [
      "Mean Squared Error LATITUDE: 2.1381185054779053\n",
      "Mean Absolute Error LATITUDE: 0.9447475075721741\n",
      "R² Score LATITUDE: 0.9955310821533203\n"
     ]
    }
   ],
   "source": [
    "mse = mean_squared_error(actual[1], predicted[1])\n",
    "print(f\"Mean Squared Error LATITUDE: {mse}\")\n",
    "\n",
    "mae = mean_absolute_error(actual[1], predicted[1])\n",
    "print(f\"Mean Absolute Error LATITUDE: {mae}\")    \n",
    "\n",
    "r2 = r2_score(actual[1], predicted[1])\n",
    "print(f\"R² Score LATITUDE: {r2}\")"
   ]
  },
  {
   "cell_type": "code",
   "execution_count": 166,
   "metadata": {},
   "outputs": [
    {
     "name": "stdout",
     "output_type": "stream",
     "text": [
      "Mean Squared Error LONGITUDE: 0.033854804933071136\n",
      "Mean Absolute Error LONGITUDE: 0.11832714080810547\n",
      "R² Score LONGITUDE: 0.9999287128448486\n"
     ]
    }
   ],
   "source": [
    "mse = mean_squared_error(actual[2], predicted[2])\n",
    "print(f\"Mean Squared Error LONGITUDE: {mse}\")\n",
    "\n",
    "mae = mean_absolute_error(actual[2], predicted[2])\n",
    "print(f\"Mean Absolute Error LONGITUDE: {mae}\")    \n",
    "\n",
    "r2 = r2_score(actual[2], predicted[2])\n",
    "print(f\"R² Score LONGITUDE: {r2}\")"
   ]
  }
 ],
 "metadata": {
  "kernelspec": {
   "display_name": "venv",
   "language": "python",
   "name": "python3"
  },
  "language_info": {
   "codemirror_mode": {
    "name": "ipython",
    "version": 3
   },
   "file_extension": ".py",
   "mimetype": "text/x-python",
   "name": "python",
   "nbconvert_exporter": "python",
   "pygments_lexer": "ipython3",
   "version": "3.12.5"
  }
 },
 "nbformat": 4,
 "nbformat_minor": 2
}
