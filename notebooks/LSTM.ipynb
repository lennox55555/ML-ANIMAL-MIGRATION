{
 "cells": [
  {
   "cell_type": "code",
   "execution_count": 18,
   "metadata": {},
   "outputs": [],
   "source": [
    "import numpy as np\n",
    "import pandas as pd\n",
    "import matplotlib.pyplot as plt\n",
    "import seaborn as sns\n",
    "from datetime import datetime, time\n",
    "from sklearn.metrics import mean_absolute_error, r2_score, mean_squared_error\n",
    "from sklearn.ensemble import RandomForestRegressor\n",
    "from sklearn.preprocessing import StandardScaler\n",
    "import random\n",
    "import torch\n",
    "from torch.utils.data import DataLoader, TensorDataset\n",
    "import torch.nn as nn"
   ]
  },
  {
   "cell_type": "code",
   "execution_count": 19,
   "metadata": {},
   "outputs": [],
   "source": [
    "df = pd.read_excel('../data/GNP_Aerial_counting_1969_2022.xlsx')"
   ]
  },
  {
   "cell_type": "code",
   "execution_count": 20,
   "metadata": {},
   "outputs": [],
   "source": [
    "empty_cols = ['MALE', 'CALVES'] #columns that are empty\n",
    "zero_cols = ['LINE2002', 'LINE2012', 'COLLAR', 'CONSERVANC', 'SANCTUARY'] #columns that are > 80% just 0s\n",
    "drop_cols = ['NOTES'] # other columns to drop\n",
    "df.drop(columns=empty_cols, inplace=True)\n",
    "df.drop(columns=zero_cols, inplace=True)\n",
    "df.drop(columns=drop_cols, inplace=True)"
   ]
  },
  {
   "cell_type": "code",
   "execution_count": 21,
   "metadata": {},
   "outputs": [],
   "source": [
    "df['TIME'] = df['TIME'].apply(lambda x: x.hour * 3600 + x.minute * 60 + x.second if pd.notna(x) else x)\n",
    "df['TIME'] = df['TIME'].fillna(0)"
   ]
  },
  {
   "cell_type": "code",
   "execution_count": 22,
   "metadata": {},
   "outputs": [],
   "source": [
    "df['TYPE'] = df['TYPE'].map({'Fixed-wing': 0, 'Helicopter': 1})"
   ]
  },
  {
   "cell_type": "code",
   "execution_count": 14,
   "metadata": {},
   "outputs": [],
   "source": [
    "#zero_count = (df['COUNT_DAY'] == 0).sum()\n",
    "#print(zero_count / df.shape[0])"
   ]
  },
  {
   "cell_type": "code",
   "execution_count": 23,
   "metadata": {},
   "outputs": [],
   "source": [
    "df['DATE'] = df['DATE'].apply(lambda t: t.day if isinstance(t, datetime) else np.nan)\n",
    "\n",
    "def process_date(val):\n",
    "    if pd.isna(val):\n",
    "        return np.nan\n",
    "    elif isinstance(val, str):\n",
    "        return float(val.split('/')[1])\n",
    "    elif isinstance(val, datetime):\n",
    "        return val.day\n",
    "    else:\n",
    "        return float(val)\n",
    "\n",
    "df['DATE'] = df['DATE'].apply(process_date)"
   ]
  },
  {
   "cell_type": "code",
   "execution_count": 24,
   "metadata": {},
   "outputs": [],
   "source": [
    "month_mapping = {\n",
    "    'January': 1, 'February': 2, 'March': 3, 'April': 4,\n",
    "    'May': 5, 'June': 6, 'July': 7, 'August': 8,\n",
    "    'September': 9, 'October': 10, 'November': 11, 'December': 12\n",
    "}\n",
    "\n",
    "df['MONTH'] = df['MONTH'].map(month_mapping)\n",
    "df['MONTH'] = pd.to_numeric(df['MONTH'], errors='coerce')"
   ]
  },
  {
   "cell_type": "code",
   "execution_count": 25,
   "metadata": {},
   "outputs": [],
   "source": [
    "df['lat_lag1'] = df.groupby('SPECIES')['LATITUDE'].shift(1)\n",
    "df['lon_lag1'] = df.groupby('SPECIES')['LONGITUDE'].shift(1)\n",
    "df['lat_lag2'] = df.groupby('SPECIES')['LATITUDE'].shift(2)\n",
    "df['lon_lag2'] = df.groupby('SPECIES')['LONGITUDE'].shift(2)\n",
    "df['count_lag1'] = df.groupby('SPECIES')['COUNT_DAY'].shift(1)\n",
    "df['count_lag2'] = df.groupby('SPECIES')['COUNT_DAY'].shift(2)"
   ]
  },
  {
   "cell_type": "code",
   "execution_count": 26,
   "metadata": {},
   "outputs": [],
   "source": [
    "df['SPECIES'] = df['SPECIES'].str.lower()\n",
    "df['STRATUM'] = df['STRATUM'].str.lower()\n",
    "df = pd.get_dummies(df, columns=['SPECIES', 'STRATUM'])"
   ]
  },
  {
   "cell_type": "code",
   "execution_count": 10,
   "metadata": {},
   "outputs": [
    {
     "data": {
      "text/plain": [
       "'\\ncorrelation_matrix = df.corr()\\nplt.figure(figsize=(25, 25)) \\nsns.heatmap(correlation_matrix, annot=True, cmap=\"coolwarm\")\\nplt.title(\"Correlation Matrix Heatmap\")\\nplt.show()\\n'"
      ]
     },
     "execution_count": 10,
     "metadata": {},
     "output_type": "execute_result"
    }
   ],
   "source": [
    "'''\n",
    "correlation_matrix = df.corr()\n",
    "plt.figure(figsize=(25, 25)) \n",
    "sns.heatmap(correlation_matrix, annot=True, cmap=\"coolwarm\")\n",
    "plt.title(\"Correlation Matrix Heatmap\")\n",
    "plt.show()\n",
    "'''"
   ]
  },
  {
   "cell_type": "code",
   "execution_count": 10,
   "metadata": {},
   "outputs": [],
   "source": [
    "df.to_csv('GNB1969-2022.csv', index=False)"
   ]
  },
  {
   "cell_type": "code",
   "execution_count": null,
   "metadata": {},
   "outputs": [],
   "source": []
  },
  {
   "cell_type": "markdown",
   "metadata": {},
   "source": [
    "### Non-DL Model\n",
    "\n",
    "#### Run Cross-Val"
   ]
  },
  {
   "cell_type": "code",
   "execution_count": 27,
   "metadata": {},
   "outputs": [],
   "source": [
    "# Get Train Test Split\n",
    "train_df = df[df['COUNT'] != 2022]\n",
    "test_df = df[df['COUNT'] == 2022]\n",
    "\n",
    "#fillna with mean\n",
    "train_df = train_df.fillna(train_df.mean())\n",
    "test_df = test_df.fillna(test_df.mean())\n",
    "\n",
    "X_train = train_df.drop(columns=['ID', 'LATITUDE', 'LONGITUDE', 'COUNT_DAY'])\n",
    "y_train = train_df[['COUNT_DAY', 'LATITUDE', 'LONGITUDE']]\n",
    "X_test = test_df.drop(columns=['ID', 'LATITUDE', 'LONGITUDE', 'COUNT_DAY'])\n",
    "y_test = test_df[['COUNT_DAY', 'LATITUDE', 'LONGITUDE']]\n",
    "\n",
    "scaler = StandardScaler()\n",
    "X_train = scaler.fit_transform(X_train)\n",
    "X_test = scaler.transform(X_test)"
   ]
  },
  {
   "cell_type": "markdown",
   "metadata": {},
   "source": [
    "#### Train on Full Dataset (Excluding 2022 for testing)"
   ]
  },
  {
   "cell_type": "code",
   "execution_count": 34,
   "metadata": {},
   "outputs": [
    {
     "name": "stdout",
     "output_type": "stream",
     "text": [
      "Epoch [10/100], Loss: 0.0006\n",
      "Epoch [20/100], Loss: 0.0018\n",
      "Epoch [30/100], Loss: 0.0014\n",
      "Epoch [40/100], Loss: 0.0007\n",
      "Epoch [50/100], Loss: 0.0003\n",
      "Epoch [60/100], Loss: 0.0015\n",
      "Epoch [70/100], Loss: 0.0007\n",
      "Epoch [80/100], Loss: 0.0004\n",
      "Epoch [90/100], Loss: 0.0003\n",
      "Epoch [100/100], Loss: 0.0003\n",
      "Test Loss: 0.0197\n"
     ]
    }
   ],
   "source": [
    "import torch\n",
    "import torch.nn as nn\n",
    "import torch.optim as optim\n",
    "from torch.utils.data import DataLoader, TensorDataset\n",
    "import numpy as np\n",
    "import pandas as pd\n",
    "from sklearn.preprocessing import StandardScaler\n",
    "\n",
    "\n",
    "\n",
    "# Scale the features\n",
    "scaler = StandardScaler()\n",
    "X_train_scaled = scaler.fit_transform(X_train)\n",
    "X_test_scaled = scaler.transform(X_test)\n",
    "\n",
    "# Convert to PyTorch tensors\n",
    "X_train_tensor = torch.FloatTensor(X_train_scaled)\n",
    "y_train_tensor = torch.FloatTensor(y_train.values)\n",
    "X_test_tensor = torch.FloatTensor(X_test_scaled)\n",
    "y_test_tensor = torch.FloatTensor(y_test.values)\n",
    "\n",
    "# Reshape input to be [samples, time steps, features]\n",
    "X_train_tensor = X_train_tensor.unsqueeze(1)\n",
    "X_test_tensor = X_test_tensor.unsqueeze(1)\n",
    "\n",
    "# Create DataLoader\n",
    "train_dataset = TensorDataset(X_train_tensor, y_train_tensor)\n",
    "train_loader = DataLoader(train_dataset, batch_size=32, shuffle=True)\n",
    "\n",
    "# Define the LSTM Model\n",
    "class LSTMModel(nn.Module):\n",
    "    def __init__(self, input_size, hidden_size, num_layers, output_size):\n",
    "        super(LSTMModel, self).__init__()\n",
    "        self.hidden_size = hidden_size\n",
    "        self.num_layers = num_layers\n",
    "        self.lstm = nn.LSTM(input_size, hidden_size, num_layers, batch_first=True)\n",
    "        self.fc = nn.Linear(hidden_size, output_size)\n",
    "\n",
    "    def forward(self, x):\n",
    "        h0 = torch.zeros(self.num_layers, x.size(0), self.hidden_size).to(x.device)\n",
    "        c0 = torch.zeros(self.num_layers, x.size(0), self.hidden_size).to(x.device)\n",
    "        out, _ = self.lstm(x, (h0, c0))\n",
    "        out = self.fc(out[:, -1, :])\n",
    "        return out\n",
    "\n",
    "# Instantiate the model\n",
    "input_size = X_train.shape[1]\n",
    "hidden_size = 64\n",
    "num_layers = 2\n",
    "output_size = 3  # Number of target variables\n",
    "\n",
    "model = LSTMModel(input_size, hidden_size, num_layers, output_size)\n",
    "\n",
    "# Define loss function and optimizer\n",
    "criterion = nn.MSELoss()\n",
    "optimizer = optim.Adam(model.parameters())\n",
    "\n",
    "# Training loop\n",
    "num_epochs = 100\n",
    "device = torch.device(\"cuda\" if torch.cuda.is_available() else \"cpu\")\n",
    "model.to(device)\n",
    "\n",
    "for epoch in range(num_epochs):\n",
    "    model.train()\n",
    "    for batch_X, batch_y in train_loader:\n",
    "        batch_X, batch_y = batch_X.to(device), batch_y.to(device)\n",
    "        optimizer.zero_grad()\n",
    "        outputs = model(batch_X)\n",
    "        loss = criterion(outputs, batch_y)\n",
    "        loss.backward()\n",
    "        optimizer.step()\n",
    "    \n",
    "    if (epoch + 1) % 10 == 0:\n",
    "        print(f'Epoch [{epoch+1}/{num_epochs}], Loss: {loss.item():.4f}')\n",
    "\n",
    "# Evaluation\n",
    "model.eval()\n",
    "with torch.no_grad():\n",
    "    X_test_tensor = X_test_tensor.to(device)\n",
    "    predictions = model(X_test_tensor)\n",
    "    test_loss = criterion(predictions, y_test_tensor.to(device))\n",
    "    print(f'Test Loss: {test_loss.item():.4f}')\n",
    "\n",
    "# Convert predictions back to numpy for further analysis if needed\n",
    "predictions = predictions.cpu().numpy()"
   ]
  },
  {
   "cell_type": "code",
   "execution_count": 35,
   "metadata": {},
   "outputs": [
    {
     "name": "stdout",
     "output_type": "stream",
     "text": [
      "Mean Squared Error: 0.01973147690296173\n",
      "Mean Absolute Error: 0.07780704647302628\n",
      "R² Score: 0.9287698268890381\n"
     ]
    }
   ],
   "source": [
    "with torch.no_grad():\n",
    "    actual = y_test_tensor.numpy()\n",
    "    y_preds = model(X_test_tensor)\n",
    "    #y_preds[:, 0] = torch.round(y_preds[:, 0])\n",
    "    predicted = y_preds.detach().numpy()\n",
    "    \n",
    "    mse = mean_squared_error(actual, predicted)\n",
    "    print(f\"Mean Squared Error: {mse}\")\n",
    "\n",
    "    mae = mean_absolute_error(actual, predicted)\n",
    "    print(f\"Mean Absolute Error: {mae}\")    \n",
    "\n",
    "    r2 = r2_score(actual, predicted)\n",
    "    print(f\"R² Score: {r2}\")"
   ]
  }
 ],
 "metadata": {
  "kernelspec": {
   "display_name": "venv",
   "language": "python",
   "name": "python3"
  },
  "language_info": {
   "codemirror_mode": {
    "name": "ipython",
    "version": 3
   },
   "file_extension": ".py",
   "mimetype": "text/x-python",
   "name": "python",
   "nbconvert_exporter": "python",
   "pygments_lexer": "ipython3",
   "version": "3.12.5"
  }
 },
 "nbformat": 4,
 "nbformat_minor": 2
}
