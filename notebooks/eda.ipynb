{
 "cells": [
  {
   "cell_type": "code",
   "execution_count": 2,
   "metadata": {},
   "outputs": [],
   "source": [
    "import numpy as np\n",
    "import pandas as pd\n",
    "import matplotlib.pyplot as plt\n",
    "import seaborn as sns\n",
    "from datetime import datetime, time\n",
    "from sklearn.metrics import mean_absolute_error, r2_score, mean_squared_error\n",
    "from sklearn.ensemble import RandomForestRegressor\n",
    "from sklearn.preprocessing import StandardScaler\n",
    "import random\n",
    "import torch\n",
    "from torch.utils.data import DataLoader, TensorDataset\n",
    "import torch.nn as nn"
   ]
  },
  {
   "cell_type": "code",
   "execution_count": 3,
   "metadata": {},
   "outputs": [],
   "source": [
    "df = pd.read_excel('../data/GNP_Aerial_counting_1969_2022.xlsx')"
   ]
  },
  {
   "cell_type": "code",
   "execution_count": 11,
   "metadata": {},
   "outputs": [],
   "source": [
    "empty_cols = ['MALE', 'CALVES'] #columns that are empty\n",
    "zero_cols = ['LINE2002', 'LINE2012', 'COLLAR', 'CONSERVANC', 'SANCTUARY'] #columns that are > 80% just 0s\n",
    "drop_cols = ['NOTES'] # other columns to drop\n",
    "df.drop(columns=empty_cols, inplace=True)\n",
    "df.drop(columns=zero_cols, inplace=True)\n",
    "df.drop(columns=drop_cols, inplace=True)"
   ]
  },
  {
   "cell_type": "code",
   "execution_count": 12,
   "metadata": {},
   "outputs": [],
   "source": [
    "df['TIME'] = df['TIME'].apply(lambda x: x.hour * 3600 + x.minute * 60 + x.second if pd.notna(x) else x)\n",
    "df['TIME'] = df['TIME'].fillna(0)"
   ]
  },
  {
   "cell_type": "code",
   "execution_count": 13,
   "metadata": {},
   "outputs": [],
   "source": [
    "df['TYPE'] = df['TYPE'].map({'Fixed-wing': 0, 'Helicopter': 1})"
   ]
  },
  {
   "cell_type": "code",
   "execution_count": 14,
   "metadata": {},
   "outputs": [],
   "source": [
    "#zero_count = (df['COUNT_DAY'] == 0).sum()\n",
    "#print(zero_count / df.shape[0])"
   ]
  },
  {
   "cell_type": "code",
   "execution_count": 15,
   "metadata": {},
   "outputs": [],
   "source": [
    "df['DATE'] = df['DATE'].apply(lambda t: t.day if isinstance(t, datetime) else np.nan)\n",
    "df['DATE'] = pd.to_numeric(df['DATE'], errors='coerce')"
   ]
  },
  {
   "cell_type": "code",
   "execution_count": 16,
   "metadata": {},
   "outputs": [],
   "source": [
    "month_mapping = {\n",
    "    'January': 1, 'February': 2, 'March': 3, 'April': 4,\n",
    "    'May': 5, 'June': 6, 'July': 7, 'August': 8,\n",
    "    'September': 9, 'October': 10, 'November': 11, 'December': 12\n",
    "}\n",
    "\n",
    "df['MONTH'] = df['MONTH'].map(month_mapping)\n",
    "df['MONTH'] = pd.to_numeric(df['MONTH'], errors='coerce')"
   ]
  },
  {
   "cell_type": "code",
   "execution_count": null,
   "metadata": {},
   "outputs": [],
   "source": [
    "df['lat_lag1'] = df.groupby('SPECIES')['LATITUDE'].shift(1)\n",
    "df['lon_lag1'] = df.groupby('SPECIES')['LONGITUDE'].shift(1)\n",
    "df['lat_lag2'] = df.groupby('SPECIES')['LATITUDE'].shift(2)\n",
    "df['lon_lag2'] = df.groupby('SPECIES')['LONGITUDE'].shift(2)\n",
    "df['count_lag1'] = df.groupby('SPECIES')['COUNT_DAY'].shift(1)\n",
    "df['count_lag2'] = df.groupby('SPECIES')['COUNT_DAY'].shift(2)"
   ]
  },
  {
   "cell_type": "code",
   "execution_count": 18,
   "metadata": {},
   "outputs": [],
   "source": [
    "df['SPECIES'] = df['SPECIES'].str.lower()\n",
    "df['STRATUM'] = df['STRATUM'].str.lower()\n",
    "df = pd.get_dummies(df, columns=['SPECIES', 'STRATUM'])"
   ]
  },
  {
   "cell_type": "code",
   "execution_count": 19,
   "metadata": {},
   "outputs": [
    {
     "data": {
      "text/plain": [
       "'\\ncorrelation_matrix = df.corr()\\nplt.figure(figsize=(25, 25)) \\nsns.heatmap(correlation_matrix, annot=True, cmap=\"coolwarm\")\\nplt.title(\"Correlation Matrix Heatmap\")\\nplt.show()\\n'"
      ]
     },
     "execution_count": 19,
     "metadata": {},
     "output_type": "execute_result"
    }
   ],
   "source": [
    "'''\n",
    "correlation_matrix = df.corr()\n",
    "plt.figure(figsize=(25, 25)) \n",
    "sns.heatmap(correlation_matrix, annot=True, cmap=\"coolwarm\")\n",
    "plt.title(\"Correlation Matrix Heatmap\")\n",
    "plt.show()\n",
    "'''"
   ]
  },
  {
   "cell_type": "markdown",
   "metadata": {},
   "source": [
    "### Non-DL Model\n",
    "\n",
    "#### Run Cross-Val"
   ]
  },
  {
   "cell_type": "code",
   "execution_count": 20,
   "metadata": {},
   "outputs": [
    {
     "name": "stdout",
     "output_type": "stream",
     "text": [
      "year being tested for CV: 2018\n",
      "Mean Squared Error: 0.012394607260455952\n",
      "R² Score: 0.7930838729899694\n",
      "year being tested for CV: 2016\n",
      "Mean Squared Error: 0.07374771124886702\n",
      "R² Score: 0.8452361010216333\n",
      "year being tested for CV: 2020\n",
      "Mean Squared Error: 0.1038130864126137\n",
      "R² Score: 0.743604203322462\n",
      "year being tested for CV: 2001\n",
      "Mean Squared Error: 0.03219371229626082\n",
      "R² Score: 0.4285106674385741\n",
      "year being tested for CV: 1997\n",
      "Mean Squared Error: 0.029644126236058648\n",
      "R² Score: 0.2846232141067691\n",
      "Average Mean Squared Error: 0.050358648690851236\n",
      "Average R² Score: 0.6190116117758815\n"
     ]
    }
   ],
   "source": [
    "def run_cv(df, num_splits=5):\n",
    "    tested_years = [2022]\n",
    "    ave_mse = 0\n",
    "    ave_r2 = 0\n",
    "\n",
    "    for _ in range(num_splits):\n",
    "        cv_year = random.choice(df['COUNT'].unique())\n",
    "        while cv_year in tested_years:\n",
    "            cv_year = random.choice(df['COUNT'].unique())\n",
    "        \n",
    "        tested_years.append(cv_year)\n",
    "\n",
    "        train_df = df[~df['COUNT'].isin([2022, cv_year])]\n",
    "        test_df = df[df['COUNT'] == cv_year]\n",
    "\n",
    "        #fillna with mean\n",
    "        train_df = train_df.fillna(train_df.mean())\n",
    "        test_df = test_df.fillna(test_df.mean())\n",
    "\n",
    "        X_train = train_df.drop(columns=['ID', 'LATITUDE', 'LONGITUDE', 'COUNT_DAY'])\n",
    "        y_train = train_df[['COUNT_DAY', 'LATITUDE', 'LONGITUDE']]\n",
    "        X_test = test_df.drop(columns=['ID', 'LATITUDE', 'LONGITUDE', 'COUNT_DAY'])\n",
    "        y_test = test_df[['COUNT_DAY', 'LATITUDE', 'LONGITUDE']]\n",
    "\n",
    "        scaler = StandardScaler()\n",
    "        X_train = scaler.fit_transform(X_train)\n",
    "        X_test = scaler.transform(X_test)\n",
    "\n",
    "        # Multi-output regressor\n",
    "        model = RandomForestRegressor()\n",
    "        model.fit(X_train, y_train)\n",
    "\n",
    "        # Predictions\n",
    "        y_pred = model.predict(X_test)\n",
    "\n",
    "        print(f\"year being tested for CV: {cv_year}\")\n",
    "\n",
    "        mse = mean_squared_error(y_test, y_pred)\n",
    "        print(f\"Mean Squared Error: {mse}\")\n",
    "\n",
    "        # Example: R² for predictions\n",
    "        r2 = r2_score(y_test, y_pred)\n",
    "        print(f\"R² Score: {r2}\")\n",
    "\n",
    "        ave_mse += mse\n",
    "        ave_r2 += r2\n",
    "\n",
    "    print(f\"Average Mean Squared Error: {ave_mse / num_splits}\")\n",
    "    print(f\"Average R² Score: {ave_r2 / num_splits}\")\n",
    "\n",
    "run_cv(df)"
   ]
  },
  {
   "cell_type": "markdown",
   "metadata": {},
   "source": [
    "#### Train on Full Dataset (Excluding 2022 for testing)"
   ]
  },
  {
   "cell_type": "code",
   "execution_count": 21,
   "metadata": {},
   "outputs": [
    {
     "name": "stdout",
     "output_type": "stream",
     "text": [
      "Mean Squared Error: 0.008963670234504615\n",
      "R² Score: 0.945498266941466\n"
     ]
    }
   ],
   "source": [
    "# Get Train Test Split\n",
    "train_df = df[df['COUNT'] != 2022]\n",
    "test_df = df[df['COUNT'] == 2022]\n",
    "\n",
    "#fillna with mean\n",
    "train_df = train_df.fillna(train_df.mean())\n",
    "test_df = test_df.fillna(test_df.mean())\n",
    "\n",
    "X_train = train_df.drop(columns=['ID', 'LATITUDE', 'LONGITUDE', 'COUNT_DAY'])\n",
    "y_train = train_df[['COUNT_DAY', 'LATITUDE', 'LONGITUDE']]\n",
    "X_test = test_df.drop(columns=['ID', 'LATITUDE', 'LONGITUDE', 'COUNT_DAY'])\n",
    "y_test = test_df[['COUNT_DAY', 'LATITUDE', 'LONGITUDE']]\n",
    "\n",
    "scaler = StandardScaler()\n",
    "X_train = scaler.fit_transform(X_train)\n",
    "X_test = scaler.transform(X_test)\n",
    "\n",
    "# Multi-output regressor\n",
    "model = RandomForestRegressor()\n",
    "model.fit(X_train, y_train)\n",
    "\n",
    "# Predictions\n",
    "y_pred = model.predict(X_test)\n",
    "\n",
    "# Example: Calculate MSE for your model\n",
    "mse = mean_squared_error(y_test, y_pred)\n",
    "print(f\"Mean Squared Error: {mse}\")\n",
    "\n",
    "# Example: R² for predictions\n",
    "r2 = r2_score(y_test, y_pred)\n",
    "print(f\"R² Score: {r2}\")"
   ]
  },
  {
   "cell_type": "markdown",
   "metadata": {},
   "source": [
    "### Set-Up NN"
   ]
  },
  {
   "cell_type": "code",
   "execution_count": 22,
   "metadata": {},
   "outputs": [],
   "source": [
    "# Example: Convert features and target to PyTorch tensors\n",
    "X_train_tensor = torch.tensor(X_train, dtype=torch.float32)\n",
    "y_train_tensor = torch.tensor(y_train.to_numpy(), dtype=torch.float32)\n",
    "\n",
    "X_test_tensor = torch.tensor(X_test, dtype=torch.float32)\n",
    "y_test_tensor = torch.tensor(y_test.to_numpy(), dtype=torch.float32)"
   ]
  },
  {
   "cell_type": "code",
   "execution_count": 23,
   "metadata": {},
   "outputs": [],
   "source": [
    "# Create datasets\n",
    "train_dataset = TensorDataset(X_train_tensor, y_train_tensor)\n",
    "test_dataset = TensorDataset(X_test_tensor, y_test_tensor)\n",
    "\n",
    "# Create dataloaders\n",
    "train_loader = DataLoader(train_dataset, batch_size=32, shuffle=True)\n",
    "test_loader = DataLoader(test_dataset, batch_size=32, shuffle=False)"
   ]
  },
  {
   "cell_type": "code",
   "execution_count": 24,
   "metadata": {},
   "outputs": [],
   "source": [
    "# Define the neural network\n",
    "class MultiOutputNN(nn.Module):\n",
    "    def __init__(self, input_size, output_size=3):\n",
    "        super(MultiOutputNN, self).__init__()\n",
    "        self.fc1 = nn.Linear(input_size, 64)\n",
    "        self.bn1 = nn.BatchNorm1d(64)\n",
    "        self.relu = nn.ReLU()\n",
    "        self.fc2 = nn.Linear(64, 32)\n",
    "        self.bn2 = nn.BatchNorm1d(32) \n",
    "        self.output = nn.Linear(32, output_size)\n",
    "\n",
    "    def forward(self, x):\n",
    "        x = self.fc1(x)\n",
    "        x = self.bn1(x)\n",
    "        x = self.relu(x)\n",
    "        x = self.fc2(x)\n",
    "        x = self.bn2(x)\n",
    "        x = self.relu(x)\n",
    "        x = self.output(x)\n",
    "        return x"
   ]
  },
  {
   "cell_type": "markdown",
   "metadata": {},
   "source": [
    "### Run 1 NN"
   ]
  },
  {
   "cell_type": "code",
   "execution_count": 25,
   "metadata": {},
   "outputs": [],
   "source": [
    "model = MultiOutputNN(input_size=X_train_tensor.shape[1])"
   ]
  },
  {
   "cell_type": "code",
   "execution_count": 26,
   "metadata": {},
   "outputs": [
    {
     "name": "stdout",
     "output_type": "stream",
     "text": [
      "Epoch 1/100, Loss: 57.0402\n",
      "Epoch 2/100, Loss: 0.3393\n",
      "Epoch 3/100, Loss: 0.2541\n",
      "Epoch 4/100, Loss: 0.2163\n",
      "Epoch 5/100, Loss: 0.1834\n",
      "Epoch 6/100, Loss: 0.1606\n",
      "Epoch 7/100, Loss: 0.1463\n",
      "Epoch 8/100, Loss: 0.1297\n",
      "Epoch 9/100, Loss: 0.1232\n",
      "Epoch 10/100, Loss: 0.1143\n",
      "Epoch 11/100, Loss: 0.1067\n",
      "Epoch 12/100, Loss: 0.0997\n",
      "Epoch 13/100, Loss: 0.0985\n",
      "Epoch 14/100, Loss: 0.0879\n",
      "Epoch 15/100, Loss: 0.0831\n",
      "Epoch 16/100, Loss: 0.0819\n",
      "Epoch 17/100, Loss: 0.0771\n",
      "Epoch 18/100, Loss: 0.0748\n",
      "Epoch 19/100, Loss: 0.0700\n",
      "Epoch 20/100, Loss: 0.0701\n",
      "Epoch 21/100, Loss: 0.0646\n",
      "Epoch 22/100, Loss: 0.0621\n",
      "Epoch 23/100, Loss: 0.0597\n",
      "Epoch 24/100, Loss: 0.0592\n",
      "Epoch 25/100, Loss: 0.0554\n",
      "Epoch 26/100, Loss: 0.0545\n",
      "Epoch 27/100, Loss: 0.0535\n",
      "Epoch 28/100, Loss: 0.0510\n",
      "Epoch 29/100, Loss: 0.0495\n",
      "Epoch 30/100, Loss: 0.0488\n",
      "Epoch 31/100, Loss: 0.0470\n",
      "Epoch 32/100, Loss: 0.0462\n",
      "Epoch 33/100, Loss: 0.0445\n",
      "Epoch 34/100, Loss: 0.0439\n",
      "Epoch 35/100, Loss: 0.0425\n",
      "Epoch 36/100, Loss: 0.0402\n",
      "Epoch 37/100, Loss: 0.0421\n",
      "Epoch 38/100, Loss: 0.0396\n",
      "Epoch 39/100, Loss: 0.0397\n",
      "Epoch 40/100, Loss: 0.0392\n",
      "Epoch 41/100, Loss: 0.0387\n",
      "Epoch 42/100, Loss: 0.0376\n",
      "Epoch 43/100, Loss: 0.0361\n",
      "Epoch 44/100, Loss: 0.0373\n",
      "Epoch 45/100, Loss: 0.0359\n",
      "Epoch 46/100, Loss: 0.0357\n",
      "Epoch 47/100, Loss: 0.0353\n",
      "Epoch 48/100, Loss: 0.0340\n",
      "Epoch 49/100, Loss: 0.0343\n",
      "Epoch 50/100, Loss: 0.0338\n",
      "Epoch 51/100, Loss: 0.0338\n",
      "Epoch 52/100, Loss: 0.0321\n",
      "Epoch 53/100, Loss: 0.0323\n",
      "Epoch 54/100, Loss: 0.0310\n",
      "Epoch 55/100, Loss: 0.0315\n",
      "Epoch 56/100, Loss: 0.0301\n",
      "Epoch 57/100, Loss: 0.0307\n",
      "Epoch 58/100, Loss: 0.0319\n",
      "Epoch 59/100, Loss: 0.0292\n",
      "Epoch 60/100, Loss: 0.0295\n",
      "Epoch 61/100, Loss: 0.0294\n",
      "Epoch 62/100, Loss: 0.0298\n",
      "Epoch 63/100, Loss: 0.0290\n",
      "Epoch 64/100, Loss: 0.0273\n",
      "Epoch 65/100, Loss: 0.0269\n",
      "Epoch 66/100, Loss: 0.0276\n",
      "Epoch 67/100, Loss: 0.0272\n",
      "Epoch 68/100, Loss: 0.0270\n",
      "Epoch 69/100, Loss: 0.0257\n",
      "Epoch 70/100, Loss: 0.0257\n",
      "Epoch 71/100, Loss: 0.0261\n",
      "Epoch 72/100, Loss: 0.0254\n",
      "Epoch 73/100, Loss: 0.0252\n",
      "Epoch 74/100, Loss: 0.0248\n",
      "Epoch 75/100, Loss: 0.0257\n",
      "Epoch 76/100, Loss: 0.0251\n",
      "Epoch 77/100, Loss: 0.0244\n",
      "Epoch 78/100, Loss: 0.0247\n",
      "Epoch 79/100, Loss: 0.0238\n",
      "Epoch 80/100, Loss: 0.0228\n",
      "Epoch 81/100, Loss: 0.0235\n",
      "Epoch 82/100, Loss: 0.0232\n",
      "Epoch 83/100, Loss: 0.0228\n",
      "Epoch 84/100, Loss: 0.0234\n",
      "Epoch 85/100, Loss: 0.0230\n",
      "Epoch 86/100, Loss: 0.0228\n",
      "Epoch 87/100, Loss: 0.0229\n",
      "Epoch 88/100, Loss: 0.0224\n",
      "Epoch 89/100, Loss: 0.0220\n",
      "Epoch 90/100, Loss: 0.0220\n",
      "Epoch 91/100, Loss: 0.0227\n",
      "Epoch 92/100, Loss: 0.0222\n",
      "Epoch 93/100, Loss: 0.0213\n",
      "Epoch 94/100, Loss: 0.0221\n",
      "Epoch 95/100, Loss: 0.0216\n",
      "Epoch 96/100, Loss: 0.0220\n",
      "Epoch 97/100, Loss: 0.0210\n",
      "Epoch 98/100, Loss: 0.0211\n",
      "Epoch 99/100, Loss: 0.0214\n",
      "Epoch 100/100, Loss: 0.0203\n"
     ]
    }
   ],
   "source": [
    "criterion = nn.MSELoss()\n",
    "optimizer = torch.optim.Adam(model.parameters(), lr=0.001)\n",
    "epochs = 100\n",
    "\n",
    "for epoch in range(epochs):\n",
    "    model.train()\n",
    "    running_loss = 0.0\n",
    "\n",
    "    for X_batch, y_batch in train_loader:\n",
    "        optimizer.zero_grad()\n",
    "        predictions = model(X_batch)\n",
    "        loss = criterion(predictions, y_batch)\n",
    "        loss.backward()\n",
    "        optimizer.step()\n",
    "        running_loss += loss.item()\n",
    "\n",
    "    print(f\"Epoch {epoch+1}/{epochs}, Loss: {running_loss / len(train_loader):.4f}\")"
   ]
  },
  {
   "cell_type": "code",
   "execution_count": 27,
   "metadata": {},
   "outputs": [
    {
     "name": "stdout",
     "output_type": "stream",
     "text": [
      "Mean Squared Error: 0.6456418037414551\n",
      "Mean Absolute Error: 0.455948144197464\n",
      "R² Score: -22.29332160949707\n"
     ]
    }
   ],
   "source": [
    "with torch.no_grad():\n",
    "    actual = y_test_tensor.numpy()\n",
    "    y_preds = model(X_test_tensor)\n",
    "    #y_preds[:, 0] = torch.round(y_preds[:, 0])\n",
    "    predicted = y_preds.detach().numpy()\n",
    "    \n",
    "    mse = mean_squared_error(actual, predicted)\n",
    "    print(f\"Mean Squared Error: {mse}\")\n",
    "\n",
    "    mae = mean_absolute_error(actual, predicted)\n",
    "    print(f\"Mean Absolute Error: {mae}\")    \n",
    "\n",
    "    r2 = r2_score(actual, predicted)\n",
    "    print(f\"R² Score: {r2}\")"
   ]
  },
  {
   "cell_type": "markdown",
   "metadata": {},
   "source": [
    "### Ensemble NNs (So far better than 1)"
   ]
  },
  {
   "cell_type": "code",
   "execution_count": 28,
   "metadata": {},
   "outputs": [],
   "source": [
    "models = [MultiOutputNN(input_size=X_train.shape[1]) for _ in range(3)]"
   ]
  },
  {
   "cell_type": "code",
   "execution_count": 29,
   "metadata": {},
   "outputs": [
    {
     "name": "stdout",
     "output_type": "stream",
     "text": [
      "Loss for Model 1: 0.6057\n",
      "Loss for Model 2: 0.6409\n",
      "Loss for Model 3: 0.6390\n"
     ]
    }
   ],
   "source": [
    "criterion = nn.MSELoss()\n",
    "epochs = 100\n",
    "\n",
    "trained_models = []\n",
    "for i, model in enumerate(models):\n",
    "    tot_loss = 0.0\n",
    "    optimizer = torch.optim.Adam(model.parameters(), lr=0.001)\n",
    "    model.train()\n",
    "    \n",
    "    for epoch in range(epochs):\n",
    "        running_loss = 0.0\n",
    "        for X_batch, y_batch in train_loader:\n",
    "            optimizer.zero_grad()\n",
    "            predictions = model(X_batch)\n",
    "            loss = criterion(predictions, y_batch)\n",
    "            loss.backward()\n",
    "            optimizer.step()\n",
    "            running_loss += loss.item()\n",
    "        \n",
    "        tot_loss += running_loss / len(train_loader)\n",
    "\n",
    "    print(f\"Loss for Model {i+1}: {tot_loss / 100:.4f}\")\n",
    "    trained_models.append(model)"
   ]
  },
  {
   "cell_type": "code",
   "execution_count": 30,
   "metadata": {},
   "outputs": [
    {
     "name": "stdout",
     "output_type": "stream",
     "text": [
      "Mean Squared Error: 0.010411717928946018\n",
      "Mean Absolute Error: 0.05360414460301399\n",
      "R² Score: 0.9574060440063477\n"
     ]
    }
   ],
   "source": [
    "# Predict with all models\n",
    "predictions = []\n",
    "\n",
    "for model in trained_models:\n",
    "    model.eval()\n",
    "    with torch.no_grad():\n",
    "        y_preds = model(X_test_tensor)\n",
    "        predictions.append(y_preds.detach().numpy())\n",
    "\n",
    "# Average predictions\n",
    "predicted = sum(predictions) / len(predictions)\n",
    "\n",
    "actual = y_test_tensor.numpy()\n",
    "mse = mean_squared_error(actual, predicted)\n",
    "print(f\"Mean Squared Error: {mse}\")\n",
    "\n",
    "mae = mean_absolute_error(actual, predicted)\n",
    "print(f\"Mean Absolute Error: {mae}\")    \n",
    "\n",
    "r2 = r2_score(actual, predicted)\n",
    "print(f\"R² Score: {r2}\")"
   ]
  }
 ],
 "metadata": {
  "kernelspec": {
   "display_name": "venv",
   "language": "python",
   "name": "python3"
  },
  "language_info": {
   "codemirror_mode": {
    "name": "ipython",
    "version": 3
   },
   "file_extension": ".py",
   "mimetype": "text/x-python",
   "name": "python",
   "nbconvert_exporter": "python",
   "pygments_lexer": "ipython3",
   "version": "3.9.6"
  }
 },
 "nbformat": 4,
 "nbformat_minor": 2
}
